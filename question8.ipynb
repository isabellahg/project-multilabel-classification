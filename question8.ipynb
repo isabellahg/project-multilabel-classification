{
 "cells": [
  {
   "cell_type": "code",
   "execution_count": null,
   "metadata": {},
   "outputs": [],
   "source": []
  },
  {
   "cell_type": "code",
   "execution_count": null,
   "metadata": {},
   "outputs": [],
   "source": [
    "from skmultilearn.problem_transform import LabelPowerset\n",
    "from sklearn.ensemble import RandomForestClassifier\n",
    "\n",
    "from sklearn.metrics import hamming_loss\n",
    "from sklearn.metrics import make_scorer\n",
    "from sklearn.model_selection import cross_validate, KFold, cross_val_score\n",
    "import pandas as pd\n",
    "from sklearn.metrics import classification_report\n",
    "\n",
    "\n",
    "\n",
    "classifier = LabelPowerset(\n",
    "    classifier = RandomForestClassifier(n_estimators=100),\n",
    "    require_dense = [False, True]\n",
    ")\n",
    "\n",
    "# Es una función que crea un objeto que \n",
    "# Recibe una métrica y evalúa el clasificador con ella. \n",
    "# Puede ser utilizado en la evaluación de un modelo\n",
    "# con cross_validate() o cross_val_score() usando el\n",
    "# parámetro scoring.\n",
    "hamming_scorer = make_scorer(hamming_loss)\n",
    "\n",
    "# Es una clase que divide un conjunto de datos en partes \n",
    "# para la validación cruzada.\n",
    "kFold = KFold(n_splits=5)\n",
    "\n",
    "# Kfold puede ser utilizado para obtener \n",
    "# la división del dataset like\n",
    "# kFold.split(X_train) o puede ser utilizado por cross_validate o\n",
    "# por cross_val_score usando el parámetro cv.\n",
    "\n",
    "# cross_validate combina la división de datos y la evaluación del modelo en una \n",
    "# sola llamada. Devuelve tanto las puntuaciones de rendimiento \n",
    "# como los tiempos de entrenamiento y prueba\n",
    "hamming_scores_with_times = cross_validate(classifier, X_train, y_train, scoring=hamming_scorer, cv=kFold)\n"
   ]
  }
 ],
 "metadata": {
  "language_info": {
   "name": "python"
  },
  "orig_nbformat": 4
 },
 "nbformat": 4,
 "nbformat_minor": 2
}
