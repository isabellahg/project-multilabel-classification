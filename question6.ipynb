{
 "cells": [
  {
   "attachments": {},
   "cell_type": "markdown",
   "metadata": {},
   "source": [
    "## Repasa lo que ya estudiado anteriormente sobre validación cruzada, investiga las funciones: KFold() y cross_validate(), cross_val_score y  make_scorer(). ¿Cómo aplicarías validación cruzada en el contexto ML? Pega a continuación el código de un ejemplo de uso."
   ]
  },
  {
   "cell_type": "code",
   "execution_count": 1,
   "metadata": {},
   "outputs": [
    {
     "name": "stdout",
     "output_type": "stream",
     "text": [
      "scene:train - exists, not redownloading\n",
      "scene:test - exists, not redownloading\n"
     ]
    }
   ],
   "source": [
    "\n",
    "\n",
    "from skmultilearn.dataset import load_dataset\n",
    "\n",
    "X_train, y_train, _, _ = load_dataset(set_name=\"scene\", variant=\"un\")\n",
    "X_test, y_test, _, _ = load_dataset(set_name=\"scene\", variant=\"test\")\n",
    "\n"
   ]
  },
  {
   "cell_type": "code",
   "execution_count": 15,
   "metadata": {},
   "outputs": [
    {
     "data": {
      "text/html": [
       "<div>\n",
       "<style scoped>\n",
       "    .dataframe tbody tr th:only-of-type {\n",
       "        vertical-align: middle;\n",
       "    }\n",
       "\n",
       "    .dataframe tbody tr th {\n",
       "        vertical-align: top;\n",
       "    }\n",
       "\n",
       "    .dataframe thead th {\n",
       "        text-align: right;\n",
       "    }\n",
       "</style>\n",
       "<table border=\"1\" class=\"dataframe\">\n",
       "  <thead>\n",
       "    <tr style=\"text-align: right;\">\n",
       "      <th></th>\n",
       "      <th>0</th>\n",
       "      <th>1</th>\n",
       "      <th>2</th>\n",
       "      <th>3</th>\n",
       "      <th>4</th>\n",
       "    </tr>\n",
       "  </thead>\n",
       "  <tbody>\n",
       "    <tr>\n",
       "      <th>fit_time</th>\n",
       "      <td>0.902332</td>\n",
       "      <td>0.945678</td>\n",
       "      <td>0.926189</td>\n",
       "      <td>0.879335</td>\n",
       "      <td>0.851875</td>\n",
       "    </tr>\n",
       "    <tr>\n",
       "      <th>score_time</th>\n",
       "      <td>0.016609</td>\n",
       "      <td>0.016332</td>\n",
       "      <td>0.016637</td>\n",
       "      <td>0.016828</td>\n",
       "      <td>0.017307</td>\n",
       "    </tr>\n",
       "    <tr>\n",
       "      <th>test_score</th>\n",
       "      <td>0.314815</td>\n",
       "      <td>0.157713</td>\n",
       "      <td>0.130165</td>\n",
       "      <td>0.280303</td>\n",
       "      <td>0.307851</td>\n",
       "    </tr>\n",
       "  </tbody>\n",
       "</table>\n",
       "</div>"
      ],
      "text/plain": [
       "                   0         1         2         3         4\n",
       "fit_time    0.902332  0.945678  0.926189  0.879335  0.851875\n",
       "score_time  0.016609  0.016332  0.016637  0.016828  0.017307\n",
       "test_score  0.314815  0.157713  0.130165  0.280303  0.307851"
      ]
     },
     "metadata": {},
     "output_type": "display_data"
    },
    {
     "data": {
      "text/html": [
       "<div>\n",
       "<style scoped>\n",
       "    .dataframe tbody tr th:only-of-type {\n",
       "        vertical-align: middle;\n",
       "    }\n",
       "\n",
       "    .dataframe tbody tr th {\n",
       "        vertical-align: top;\n",
       "    }\n",
       "\n",
       "    .dataframe thead th {\n",
       "        text-align: right;\n",
       "    }\n",
       "</style>\n",
       "<table border=\"1\" class=\"dataframe\">\n",
       "  <thead>\n",
       "    <tr style=\"text-align: right;\">\n",
       "      <th></th>\n",
       "      <th>0</th>\n",
       "    </tr>\n",
       "  </thead>\n",
       "  <tbody>\n",
       "    <tr>\n",
       "      <th>0</th>\n",
       "      <td>0.310700</td>\n",
       "    </tr>\n",
       "    <tr>\n",
       "      <th>1</th>\n",
       "      <td>0.161846</td>\n",
       "    </tr>\n",
       "    <tr>\n",
       "      <th>2</th>\n",
       "      <td>0.127410</td>\n",
       "    </tr>\n",
       "    <tr>\n",
       "      <th>3</th>\n",
       "      <td>0.278926</td>\n",
       "    </tr>\n",
       "    <tr>\n",
       "      <th>4</th>\n",
       "      <td>0.309229</td>\n",
       "    </tr>\n",
       "  </tbody>\n",
       "</table>\n",
       "</div>"
      ],
      "text/plain": [
       "          0\n",
       "0  0.310700\n",
       "1  0.161846\n",
       "2  0.127410\n",
       "3  0.278926\n",
       "4  0.309229"
      ]
     },
     "metadata": {},
     "output_type": "display_data"
    }
   ],
   "source": [
    "from skmultilearn.problem_transform import LabelPowerset\n",
    "from sklearn.ensemble import RandomForestClassifier\n",
    "\n",
    "from sklearn.metrics import hamming_loss\n",
    "from sklearn.metrics import make_scorer\n",
    "from sklearn.model_selection import cross_validate, KFold, cross_val_score\n",
    "import pandas as pd\n",
    "from sklearn.metrics import classification_report\n",
    "classifier = LabelPowerset(\n",
    "    classifier = RandomForestClassifier(n_estimators=100),\n",
    "    require_dense = [False, True]\n",
    ")\n",
    "\n",
    "# Es una función que crea un objeto que \n",
    "# Recibe una métrica y evalúa el clasificador con ella. \n",
    "# Puede ser utilizado en la evaluación de un modelo\n",
    "# con cross_validate() o cross_val_score() usando el\n",
    "# parámetro scoring.\n",
    "hamming_scorer = make_scorer(hamming_loss)\n",
    "\n",
    "# Es una clase que divide un conjunto de datos en partes \n",
    "# para la validación cruzada.\n",
    "kFold = KFold(n_splits=5)\n",
    "\n",
    "# Kfold puede ser utilizado para obtener \n",
    "# la división del dataset like\n",
    "# kFold.split(X_train) o puede ser utilizado por cross_validate o\n",
    "# por cross_val_score usando el parámetro cv.\n",
    "\n",
    "# cross_validate combina la división de datos y la evaluación del modelo en una \n",
    "# sola llamada. Devuelve tanto las puntuaciones de rendimiento \n",
    "# como los tiempos de entrenamiento y prueba\n",
    "hamming_scores_with_times = cross_validate(classifier, X_train, y_train, scoring=hamming_scorer, cv=kFold)\n",
    "\n",
    "display(pd.DataFrame(hamming_scores_with_times).transpose())\n",
    "\n",
    "# Funciona igual a cross_validate, pero devuelve solamente \n",
    "# la puntuación del modelo en cada fold. No devuelve los tiempos \n",
    "hamming_scores = cross_val_score(classifier, X_train, y_train, scoring=hamming_scorer, cv=kFold)\n",
    "\n",
    "display(pd.DataFrame(hamming_scores))\n",
    "\n"
   ]
  }
 ],
 "metadata": {
  "kernelspec": {
   "display_name": "multilabel_classification",
   "language": "python",
   "name": "python3"
  },
  "language_info": {
   "codemirror_mode": {
    "name": "ipython",
    "version": 3
   },
   "file_extension": ".py",
   "mimetype": "text/x-python",
   "name": "python",
   "nbconvert_exporter": "python",
   "pygments_lexer": "ipython3",
   "version": "3.10.6"
  },
  "orig_nbformat": 4,
  "vscode": {
   "interpreter": {
    "hash": "b036a133365d9ca41a8cc0b1f1eca35c43e76eeb6280a2b349bb422c1705a195"
   }
  }
 },
 "nbformat": 4,
 "nbformat_minor": 2
}
